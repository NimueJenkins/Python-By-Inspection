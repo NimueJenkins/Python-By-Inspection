{
 "cells": [
  {
   "cell_type": "code",
   "execution_count": null,
   "metadata": {},
   "outputs": [],
   "source": [
    "import random\n",
    "\n",
    "pwdlist=[]\n",
    "\n",
    "chars1 = 'abcdefghijklmnopqrstuvwxyz'\n",
    "chars2 = chars1.upper()\n",
    "chars3 = '!\"£$%^&*()_@'\n",
    "chars4 = '0123456789' \n",
    "chars5 = chars1 + chars2 + chars3 + chars4\n",
    "\n",
    "def pwdgen(number,length):\n",
    "    for pwds in range(number):\n",
    "        password = ''\n",
    "        password += random.choice(chars1)\n",
    "        password += random.choice(chars2)\n",
    "        password += random.choice(chars3)\n",
    "        password += random.choice(chars4)\n",
    "        \n",
    "        for c in range (length-4):\n",
    "            password += random.choice(chars5)\n",
    "            \n",
    "        password = ''.join(random.sample(password, len(password)))\n",
    "            \n",
    "        pwdlist.append(password)\n",
    "        \n",
    "    return pwdlist\n",
    "\n",
    "\n",
    "print(\"Here are your passwords\")\n",
    "print(\"==================\")\n",
    "\n",
    "\n",
    "pwdgen(10,8)\n",
    "\n",
    "for p in pwdlist:\n",
    "    print(p)"
   ]
  },
  {
   "cell_type": "code",
   "execution_count": null,
   "metadata": {},
   "outputs": [],
   "source": []
  },
  {
   "cell_type": "code",
   "execution_count": null,
   "metadata": {},
   "outputs": [],
   "source": []
  },
  {
   "cell_type": "code",
   "execution_count": null,
   "metadata": {},
   "outputs": [],
   "source": []
  },
  {
   "cell_type": "code",
   "execution_count": null,
   "metadata": {},
   "outputs": [],
   "source": []
  }
 ],
 "metadata": {
  "kernelspec": {
   "display_name": "Python 3",
   "language": "python",
   "name": "python3"
  },
  "language_info": {
   "codemirror_mode": {
    "name": "ipython",
    "version": 3
   },
   "file_extension": ".py",
   "mimetype": "text/x-python",
   "name": "python",
   "nbconvert_exporter": "python",
   "pygments_lexer": "ipython3",
   "version": "3.7.3"
  }
 },
 "nbformat": 4,
 "nbformat_minor": 4
}
